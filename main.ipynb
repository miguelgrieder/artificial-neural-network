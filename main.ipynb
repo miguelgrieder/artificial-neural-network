{
 "nbformat": 4,
 "nbformat_minor": 0,
 "metadata": {
  "colab": {
   "provenance": []
  },
  "kernelspec": {
   "name": "python3",
   "display_name": "Python 3 (ipykernel)",
   "language": "python"
  },
  "language_info": {
   "name": "python"
  }
 },
 "cells": [
  {
   "metadata": {},
   "cell_type": "markdown",
   "source": "# **Rede Neural**"
  },
  {
   "cell_type": "code",
   "metadata": {
    "id": "jETQgjuhvueg",
    "ExecuteTime": {
     "end_time": "2024-12-02T03:02:52.862481Z",
     "start_time": "2024-12-02T03:02:52.857073Z"
    }
   },
   "source": [
    "import numpy as np\n",
    "\n",
    "class RedeNeural:\n",
    "    def __init__(self, estrutura):\n",
    "        self.estrutura = estrutura\n",
    "        self.pesos = []\n",
    "        self.vies = []\n",
    "        for i in range(len(estrutura) - 1):\n",
    "            # Inicialização Xavier\n",
    "            limite = np.sqrt(6 / (estrutura[i] + estrutura[i + 1]))\n",
    "            self.pesos.append(np.random.uniform(-limite, limite, (estrutura[i], estrutura[i + 1])))\n",
    "            self.vies.append(np.zeros((1, estrutura[i + 1])))\n",
    "\n",
    "\n",
    "\n",
    "    def relu(self, z):\n",
    "\n",
    "        return np.maximum(0, z)\n",
    "\n",
    "    def derivada_relu(self, z):\n",
    "\n",
    "        return (z > 0).astype(float)\n",
    "\n",
    "    def erro_quadratico_medio(self, y_pred, y_true):\n",
    "\n",
    "        return np.mean((y_pred - y_true) ** 2)\n",
    "\n",
    "    def derivada_eqm(self, y_pred, y_true):\n",
    "        return 2 * (y_pred - y_true) / y_true.size\n",
    "\n",
    "    def feedforward(self, entrada):\n",
    "        ativacoes = [entrada]\n",
    "        z_camadas = []\n",
    "\n",
    "        for peso, vies in zip(self.pesos, self.vies):\n",
    "            z = np.dot(ativacoes[-1], peso) + vies\n",
    "            z_camadas.append(z)\n",
    "            ativacao = self.relu(z)\n",
    "            ativacoes.append(ativacao)\n",
    "\n",
    "        return ativacoes, z_camadas\n",
    "\n",
    "    def backpropagation(self, entrada, saida_real, taxa_aprendizado):\n",
    "\n",
    "        # Passo 1: Feedforward\n",
    "        ativacoes, z_camadas = self.feedforward(entrada)\n",
    "\n",
    "        # Passo 2: Calcula erro da saída\n",
    "        erro_saida = self.derivada_eqm(ativacoes[-1], saida_real) * self.derivada_relu(z_camadas[-1])\n",
    "\n",
    "        deltas = [erro_saida]\n",
    "\n",
    "        # Passo 3: Retropropagação do erro\n",
    "        for i in range(len(self.estrutura) - 2, 0, -1):\n",
    "            erro = np.dot(deltas[0], self.pesos[i].T) * self.derivada_relu(z_camadas[i - 1])\n",
    "            deltas.insert(0, erro)\n",
    "\n",
    "        # Passo 4: Atualização de pesos e vieses\n",
    "        for i in range(len(self.pesos)):\n",
    "            self.pesos[i] -= taxa_aprendizado * np.dot(ativacoes[i].T, deltas[i])\n",
    "            self.vies[i] -= taxa_aprendizado * np.sum(deltas[i], axis=0, keepdims=True)"
   ],
   "outputs": [],
   "execution_count": 2
  },
  {
   "cell_type": "markdown",
   "source": [
    "---\n",
    "# **Regressão**\n",
    "---"
   ],
   "metadata": {
    "id": "T2HXQpA0Mlnb"
   }
  },
  {
   "cell_type": "markdown",
   "source": [
    "### Carregamento do Dataset - California Housing Prices"
   ],
   "metadata": {
    "id": "JvMegSXDLcSe"
   }
  },
  {
   "cell_type": "code",
   "source": [
    "import pandas as pd\n",
    "from sklearn.model_selection import train_test_split\n",
    "from sklearn.preprocessing import RobustScaler\n",
    "\n",
    "def carregar_dados_regressao():\n",
    "    df = pd.read_csv('housing.csv')\n",
    "    \n",
    "    # TODO arrumar depois - ignorando ocean_proximity\n",
    "    df = df.drop(columns=['ocean_proximity'])\n",
    "\n",
    "    # entradas (X) e a saída (y)\n",
    "    X = df.drop(columns=['median_house_value']).values\n",
    "    y = df['median_house_value'].values.reshape(-1, 1)\n",
    "    \n",
    "\n",
    "    # normaliza os dados\n",
    "    scaler_X = RobustScaler()\n",
    "    scaler_y = RobustScaler()\n",
    "    X = scaler_X.fit_transform(X)\n",
    "    y = scaler_y.fit_transform(y)\n",
    "\n",
    "    X_treino, X_teste, y_treino, y_teste = train_test_split(\n",
    "        X, y, test_size=0.2, random_state=42)\n",
    "\n",
    "    return X_treino, X_teste, y_treino, y_teste, scaler_y\n",
    "\n",
    "# configura os dados\n",
    "X_treino, X_teste, y_treino, y_teste, scaler_y = carregar_dados_regressao()\n"
   ],
   "metadata": {
    "id": "CfoA4Ae4Kw2n",
    "ExecuteTime": {
     "end_time": "2024-12-02T03:02:56.254894Z",
     "start_time": "2024-12-02T03:02:55.690040Z"
    }
   },
   "outputs": [],
   "execution_count": 3
  },
  {
   "cell_type": "markdown",
   "source": [
    "### Treinamento"
   ],
   "metadata": {
    "id": "lYWEPUeZM_LS"
   }
  },
  {
   "cell_type": "code",
   "source": [
    "estrutura_camadas = [X_treino.shape[1], 50, 1]  # Camada oculta com 50 neurônios\n",
    "rede = RedeNeural(estrutura_camadas)\n",
    "\n",
    "# Treinamento a rede\n",
    "def treinar_rede_regressao_ajustada(rede, X_treino, y_treino, X_teste, y_teste, epochs=2000, taxa_aprendizado=0.01):\n",
    "    erros_treino = []\n",
    "    erros_teste = []\n",
    "\n",
    "    for epoca in range(epochs):\n",
    "        # Treinar com o conjunto de treino\n",
    "        rede.backpropagation(X_treino, y_treino, taxa_aprendizado)\n",
    "\n",
    "        # Calcular erro no treino e no teste\n",
    "        ativacoes_treino, _ = rede.feedforward(X_treino)\n",
    "        erro_treino = rede.erro_quadratico_medio(ativacoes_treino[-1], y_treino)\n",
    "        erros_treino.append(erro_treino)\n",
    "\n",
    "        ativacoes_teste, _ = rede.feedforward(X_teste)\n",
    "        erro_teste = rede.erro_quadratico_medio(ativacoes_teste[-1], y_teste)\n",
    "        erros_teste.append(erro_teste)\n",
    "\n",
    "        # Exibir progresso a cada 100 épocas\n",
    "        if epoca % 100 == 0:\n",
    "            print(f\"Época {epoca}: Erro de Treino = {erro_treino:.4f}, Erro de Teste = {erro_teste:.4f}\")\n",
    "\n",
    "    return erros_treino, erros_teste\n",
    "\n",
    "\n",
    "# Executar o treinamento\n",
    "erros_treino, erros_teste = treinar_rede_regressao_ajustada(rede, X_treino, y_treino, X_teste, y_teste)\n"
   ],
   "metadata": {
    "id": "CfoA4Ae4Kw2n",
    "ExecuteTime": {
     "end_time": "2024-12-02T03:03:33.145001Z",
     "start_time": "2024-12-02T03:03:00.147346Z"
    }
   },
   "outputs": [
    {
     "name": "stdout",
     "output_type": "stream",
     "text": [
      "Época 0: Erro de Treino = 0.6377, Erro de Teste = nan\n",
      "Época 100: Erro de Treino = 0.3434, Erro de Teste = nan\n",
      "Época 200: Erro de Treino = 0.3161, Erro de Teste = nan\n",
      "Época 300: Erro de Treino = 0.3089, Erro de Teste = nan\n",
      "Época 400: Erro de Treino = 0.3050, Erro de Teste = nan\n",
      "Época 500: Erro de Treino = 0.3020, Erro de Teste = nan\n",
      "Época 600: Erro de Treino = 0.2997, Erro de Teste = nan\n",
      "Época 700: Erro de Treino = 0.2976, Erro de Teste = nan\n",
      "Época 800: Erro de Treino = 0.2958, Erro de Teste = nan\n",
      "Época 900: Erro de Treino = 0.2941, Erro de Teste = nan\n",
      "Época 1000: Erro de Treino = 0.2924, Erro de Teste = nan\n",
      "Época 1100: Erro de Treino = 0.2909, Erro de Teste = nan\n",
      "Época 1200: Erro de Treino = 0.2895, Erro de Teste = nan\n",
      "Época 1300: Erro de Treino = 0.2882, Erro de Teste = nan\n",
      "Época 1400: Erro de Treino = 0.2869, Erro de Teste = nan\n",
      "Época 1500: Erro de Treino = 0.2857, Erro de Teste = nan\n",
      "Época 1600: Erro de Treino = 0.2846, Erro de Teste = nan\n",
      "Época 1700: Erro de Treino = 0.2835, Erro de Teste = nan\n",
      "Época 1800: Erro de Treino = 0.2824, Erro de Teste = nan\n",
      "Época 1900: Erro de Treino = 0.2814, Erro de Teste = nan\n"
     ]
    }
   ],
   "execution_count": 4
  },
  {
   "cell_type": "markdown",
   "source": [
    "### Visualização dos Resultados"
   ],
   "metadata": {
    "id": "lYWEPUeZM_LS"
   }
  },
  {
   "cell_type": "code",
   "source": [
    "import matplotlib.pyplot as plt\n",
    "\n",
    "# Plotar erros de treino e teste\n",
    "plt.figure(figsize=(10, 6))\n",
    "plt.plot(erros_treino, label=\"Erro de Treino\")\n",
    "plt.plot(erros_teste, label=\"Erro de Teste\")\n",
    "plt.xlabel(\"Épocas\")\n",
    "plt.ylabel(\"Erro Quadrático Médio\")\n",
    "plt.title(\"Erro durante o Treinamento\")\n",
    "plt.legend()\n",
    "plt.show()"
   ],
   "metadata": {
    "id": "CfoA4Ae4Kw2n",
    "ExecuteTime": {
     "end_time": "2024-12-02T03:05:47.632776Z",
     "start_time": "2024-12-02T03:05:46.230122Z"
    }
   },
   "outputs": [
    {
     "data": {
      "text/plain": [
       "<Figure size 1000x600 with 1 Axes>"
      ],
      "image/png": "[encoded data removed]"
     },
     "metadata": {},
     "output_type": "display_data"
    }
   ],
   "execution_count": 5
  },
  {
   "cell_type": "markdown",
   "source": [
    "---\n",
    "# **Classificação Binária**\n",
    "---"
   ],
   "metadata": {
    "id": "KiI7aZ2SNfPC"
   }
  },
  {
   "cell_type": "markdown",
   "source": [
    "### Carregamento do Dataset - PIMA Indians Diabetes Dataset"
   ],
   "metadata": {
    "id": "y_g9wo0WTmhh"
   }
  },
  {
   "cell_type": "code",
   "source": [],
   "metadata": {
    "id": "Foo7FxNwT52n"
   },
   "execution_count": null,
   "outputs": []
  },
  {
   "cell_type": "markdown",
   "source": [
    "### Treinamento"
   ],
   "metadata": {
    "id": "JkuepKT1Vb-V"
   }
  },
  {
   "cell_type": "code",
   "source": [],
   "metadata": {
    "id": "Foo7FxNwT52n"
   },
   "execution_count": null,
   "outputs": []
  },
  {
   "cell_type": "markdown",
   "source": "### Visualização dos Resultados",
   "metadata": {
    "id": "Foo7FxNwT52n"
   }
  },
  {
   "cell_type": "code",
   "source": [],
   "metadata": {
    "id": "Foo7FxNwT52n"
   },
   "execution_count": null,
   "outputs": []
  },
  {
   "cell_type": "markdown",
   "source": [
    "---\n",
    "# **Classificação Multiclasse**\n",
    "---"
   ],
   "metadata": {
    "id": "EmuvL1j9cDAT"
   }
  },
  {
   "cell_type": "markdown",
   "source": [
    "### Carregamento do Dataset - Iris"
   ],
   "metadata": {
    "id": "GfugpXvpJcFD"
   }
  },
  {
   "cell_type": "code",
   "source": [],
   "metadata": {
    "id": "BUxo1DeyJN0J"
   },
   "execution_count": null,
   "outputs": []
  },
  {
   "cell_type": "markdown",
   "source": [
    "### Treinamento"
   ],
   "metadata": {
    "id": "6MZVDYY6cbxK"
   }
  },
  {
   "cell_type": "code",
   "source": [],
   "metadata": {
    "id": "CdpvM4cCJ4Eo"
   },
   "execution_count": null,
   "outputs": []
  },
  {
   "cell_type": "markdown",
   "source": "### Visualização dos Resultados",
   "metadata": {
    "id": "3qXsS56GX_MH"
   }
  },
  {
   "metadata": {},
   "cell_type": "markdown",
   "source": ""
  },
  {
   "metadata": {},
   "cell_type": "code",
   "outputs": [],
   "execution_count": null,
   "source": ""
  }
 ]
}

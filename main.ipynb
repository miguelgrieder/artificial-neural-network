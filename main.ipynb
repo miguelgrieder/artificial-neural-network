{
 "nbformat": 4,
 "nbformat_minor": 0,
 "metadata": {
  "colab": {
   "provenance": []
  },
  "kernelspec": {
   "name": "python3",
   "display_name": "Python 3"
  },
  "language_info": {
   "name": "python"
  }
 },
 "cells": [
  {
   "metadata": {},
   "cell_type": "markdown",
   "source": "# **Rede Neural**"
  },
  {
   "cell_type": "code",
   "execution_count": null,
   "metadata": {
    "id": "jETQgjuhvueg"
   },
   "outputs": [],
   "source": []
  },
  {
   "cell_type": "markdown",
   "source": [
    "---\n",
    "# **Regressão**\n",
    "---"
   ],
   "metadata": {
    "id": "T2HXQpA0Mlnb"
   }
  },
  {
   "cell_type": "markdown",
   "source": [
    "### Carregamento do Dataset - California Housing Prices"
   ],
   "metadata": {
    "id": "JvMegSXDLcSe"
   }
  },
  {
   "cell_type": "code",
   "source": [],
   "metadata": {
    "id": "CfoA4Ae4Kw2n"
   },
   "execution_count": null,
   "outputs": []
  },
  {
   "cell_type": "markdown",
   "source": [
    "### Treinamento"
   ],
   "metadata": {
    "id": "lYWEPUeZM_LS"
   }
  },
  {
   "cell_type": "code",
   "source": [],
   "metadata": {
    "id": "CfoA4Ae4Kw2n"
   },
   "execution_count": null,
   "outputs": []
  },
  {
   "cell_type": "markdown",
   "source": [
    "### Visualização dos Resultados"
   ],
   "metadata": {
    "id": "lYWEPUeZM_LS"
   }
  },
  {
   "cell_type": "code",
   "source": [],
   "metadata": {
    "id": "CfoA4Ae4Kw2n"
   },
   "execution_count": null,
   "outputs": []
  },
  {
   "cell_type": "markdown",
   "source": [
    "---\n",
    "# **Classificação Binária**\n",
    "---"
   ],
   "metadata": {
    "id": "KiI7aZ2SNfPC"
   }
  },
  {
   "cell_type": "markdown",
   "source": [
    "### Carregamento do Dataset - PIMA Indians Diabetes Dataset"
   ],
   "metadata": {
    "id": "y_g9wo0WTmhh"
   }
  },
  {
   "cell_type": "code",
   "source": [],
   "metadata": {
    "id": "Foo7FxNwT52n"
   },
   "execution_count": null,
   "outputs": []
  },
  {
   "cell_type": "markdown",
   "source": [
    "### Treinamento"
   ],
   "metadata": {
    "id": "JkuepKT1Vb-V"
   }
  },
  {
   "cell_type": "code",
   "source": [],
   "metadata": {
    "id": "Foo7FxNwT52n"
   },
   "execution_count": null,
   "outputs": []
  },
  {
   "cell_type": "markdown",
   "source": "### Visualização dos Resultados",
   "metadata": {
    "id": "Foo7FxNwT52n"
   }
  },
  {
   "cell_type": "code",
   "source": [],
   "metadata": {
    "id": "Foo7FxNwT52n"
   },
   "execution_count": null,
   "outputs": []
  },
  {
   "cell_type": "markdown",
   "source": [
    "---\n",
    "# **Classificação Multiclasse**\n",
    "---"
   ],
   "metadata": {
    "id": "EmuvL1j9cDAT"
   }
  },
  {
   "cell_type": "markdown",
   "source": [
    "### Carregamento do Dataset - Iris"
   ],
   "metadata": {
    "id": "GfugpXvpJcFD"
   }
  },
  {
   "cell_type": "code",
   "source": [],
   "metadata": {
    "id": "BUxo1DeyJN0J"
   },
   "execution_count": null,
   "outputs": []
  },
  {
   "cell_type": "markdown",
   "source": [
    "### Treinamento"
   ],
   "metadata": {
    "id": "6MZVDYY6cbxK"
   }
  },
  {
   "cell_type": "code",
   "source": [],
   "metadata": {
    "id": "CdpvM4cCJ4Eo"
   },
   "execution_count": null,
   "outputs": []
  },
  {
   "cell_type": "markdown",
   "source": "### Visualização dos Resultados",
   "metadata": {
    "id": "3qXsS56GX_MH"
   }
  },
  {
   "metadata": {},
   "cell_type": "markdown",
   "source": ""
  },
  {
   "metadata": {},
   "cell_type": "code",
   "outputs": [],
   "execution_count": null,
   "source": ""
  }
 ]
}

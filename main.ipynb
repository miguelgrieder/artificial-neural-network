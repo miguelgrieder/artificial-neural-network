{
 "nbformat": 4,
 "nbformat_minor": 0,
 "metadata": {
  "colab": {
   "provenance": []
  },
  "kernelspec": {
   "name": "python3",
   "display_name": "Python 3 (ipykernel)",
   "language": "python"
  },
  "language_info": {
   "name": "python"
  }
 },
 "cells": [
  {
   "metadata": {},
   "cell_type": "markdown",
   "source": "# **Rede Neural**"
  },
  {
   "cell_type": "code",
   "metadata": {
    "id": "jETQgjuhvueg",
    "ExecuteTime": {
     "end_time": "2024-12-02T21:29:14.301149Z",
     "start_time": "2024-12-02T21:29:14.296155Z"
    }
   },
   "source": [
    "import numpy as np\n",
    "\n",
    "class RedeNeural:\n",
    "    def __init__(self, estrutura):\n",
    "        self.estrutura = estrutura\n",
    "        self.pesos = []\n",
    "        self.vies = []\n",
    "        for i in range(len(estrutura) - 1):\n",
    "            # Inicialização Xavier\n",
    "            limite = np.sqrt(6 / (estrutura[i] + estrutura[i + 1]))\n",
    "            self.pesos.append(np.random.uniform(-limite, limite, (estrutura[i], estrutura[i + 1])))\n",
    "            self.vies.append(np.zeros((1, estrutura[i + 1])))\n",
    "\n",
    "\n",
    "\n",
    "    def relu(self, z):\n",
    "\n",
    "        return np.maximum(0, z)\n",
    "\n",
    "    def derivada_relu(self, z):\n",
    "\n",
    "        return (z > 0).astype(float)\n",
    "\n",
    "    def erro_quadratico_medio(self, y_pred, y_true):\n",
    "\n",
    "        return np.mean((y_pred - y_true) ** 2)\n",
    "\n",
    "    def derivada_eqm(self, y_pred, y_true):\n",
    "        return 2 * (y_pred - y_true) / y_true.size\n",
    "\n",
    "    def feedforward(self, entrada):\n",
    "        ativacoes = [entrada]\n",
    "        z_camadas = []\n",
    "\n",
    "        for peso, vies in zip(self.pesos, self.vies):\n",
    "            z = np.dot(ativacoes[-1], peso) + vies\n",
    "            z_camadas.append(z)\n",
    "            ativacao = self.relu(z)\n",
    "            ativacoes.append(ativacao)\n",
    "\n",
    "        return ativacoes, z_camadas\n",
    "\n",
    "    def backpropagation(self, entrada, saida_real, taxa_aprendizado):\n",
    "\n",
    "        # Passo 1: Feedforward\n",
    "        ativacoes, z_camadas = self.feedforward(entrada)\n",
    "\n",
    "        # Passo 2: Calcula erro da saída\n",
    "        erro_saida = self.derivada_eqm(ativacoes[-1], saida_real) * self.derivada_relu(z_camadas[-1])\n",
    "\n",
    "        deltas = [erro_saida]\n",
    "\n",
    "        # Passo 3: Retropropagação do erro\n",
    "        for i in range(len(self.estrutura) - 2, 0, -1):\n",
    "            erro = np.dot(deltas[0], self.pesos[i].T) * self.derivada_relu(z_camadas[i - 1])\n",
    "            deltas.insert(0, erro)\n",
    "\n",
    "        # Passo 4: Atualização de pesos e vieses\n",
    "        for i in range(len(self.pesos)):\n",
    "            self.pesos[i] -= taxa_aprendizado * np.dot(ativacoes[i].T, deltas[i])\n",
    "            self.vies[i] -= taxa_aprendizado * np.sum(deltas[i], axis=0, keepdims=True)"
   ],
   "outputs": [],
   "execution_count": 5
  },
  {
   "cell_type": "markdown",
   "source": [
    "---\n",
    "# **Regressão**\n",
    "---"
   ],
   "metadata": {
    "id": "T2HXQpA0Mlnb"
   }
  },
  {
   "cell_type": "markdown",
   "source": [
    "### Carregamento do Dataset - California Housing Prices"
   ],
   "metadata": {
    "id": "JvMegSXDLcSe"
   }
  },
  {
   "cell_type": "code",
   "source": [
    "import pandas as pd\n",
    "from sklearn.model_selection import train_test_split\n",
    "from sklearn.preprocessing import RobustScaler\n",
    "\n",
    "def carregar_dados_regressao():\n",
    "    df = pd.read_csv('housing.csv')\n",
    "    \n",
    "    # TODO arrumar depois - ignorando ocean_proximity\n",
    "    df = df.drop(columns=['ocean_proximity'])\n",
    "\n",
    "    # entradas (X) e a saída (y)\n",
    "    X = df.drop(columns=['median_house_value']).values\n",
    "    y = df['median_house_value'].values.reshape(-1, 1)\n",
    "    \n",
    "\n",
    "    # normaliza os dados\n",
    "    scaler_X = RobustScaler()\n",
    "    scaler_y = RobustScaler()\n",
    "    X = scaler_X.fit_transform(X)\n",
    "    y = scaler_y.fit_transform(y)\n",
    "\n",
    "    X_treino, X_teste, y_treino, y_teste = train_test_split(\n",
    "        X, y, test_size=0.2, random_state=42)\n",
    "\n",
    "    return X_treino, X_teste, y_treino, y_teste, scaler_y\n",
    "\n",
    "# configura os dados\n",
    "X_treino, X_teste, y_treino, y_teste, scaler_y = carregar_dados_regressao()\n"
   ],
   "metadata": {
    "id": "CfoA4Ae4Kw2n",
    "ExecuteTime": {
     "end_time": "2024-12-02T03:02:56.254894Z",
     "start_time": "2024-12-02T03:02:55.690040Z"
    }
   },
   "outputs": [],
   "execution_count": 3
  },
  {
   "cell_type": "markdown",
   "source": [
    "### Treinamento"
   ],
   "metadata": {
    "id": "lYWEPUeZM_LS"
   }
  },
  {
   "cell_type": "code",
   "source": [
    "estrutura_camadas = [X_treino.shape[1], 50, 1]  # Camada oculta com 50 neurônios\n",
    "rede = RedeNeural(estrutura_camadas)\n",
    "\n",
    "# Treinamento a rede\n",
    "def treinar_rede_regressao_ajustada(rede, X_treino, y_treino, X_teste, y_teste, epochs=2000, taxa_aprendizado=0.01):\n",
    "    erros_treino = []\n",
    "    erros_teste = []\n",
    "\n",
    "    for epoca in range(epochs):\n",
    "        # Treinar com o conjunto de treino\n",
    "        rede.backpropagation(X_treino, y_treino, taxa_aprendizado)\n",
    "\n",
    "        # Calcular erro no treino e no teste\n",
    "        ativacoes_treino, _ = rede.feedforward(X_treino)\n",
    "        erro_treino = rede.erro_quadratico_medio(ativacoes_treino[-1], y_treino)\n",
    "        erros_treino.append(erro_treino)\n",
    "\n",
    "        ativacoes_teste, _ = rede.feedforward(X_teste)\n",
    "        erro_teste = rede.erro_quadratico_medio(ativacoes_teste[-1], y_teste)\n",
    "        erros_teste.append(erro_teste)\n",
    "\n",
    "        # Exibir progresso a cada 100 épocas\n",
    "        if epoca % 100 == 0:\n",
    "            print(f\"Época {epoca}: Erro de Treino = {erro_treino:.4f}, Erro de Teste = {erro_teste:.4f}\")\n",
    "\n",
    "    return erros_treino, erros_teste\n",
    "\n",
    "\n",
    "# Executar o treinamento\n",
    "erros_treino, erros_teste = treinar_rede_regressao_ajustada(rede, X_treino, y_treino, X_teste, y_teste)\n"
   ],
   "metadata": {
    "id": "CfoA4Ae4Kw2n",
    "ExecuteTime": {
     "end_time": "2024-12-02T03:03:33.145001Z",
     "start_time": "2024-12-02T03:03:00.147346Z"
    }
   },
   "outputs": [
    {
     "name": "stdout",
     "output_type": "stream",
     "text": [
      "Época 0: Erro de Treino = 0.6377, Erro de Teste = nan\n",
      "Época 100: Erro de Treino = 0.3434, Erro de Teste = nan\n",
      "Época 200: Erro de Treino = 0.3161, Erro de Teste = nan\n",
      "Época 300: Erro de Treino = 0.3089, Erro de Teste = nan\n",
      "Época 400: Erro de Treino = 0.3050, Erro de Teste = nan\n",
      "Época 500: Erro de Treino = 0.3020, Erro de Teste = nan\n",
      "Época 600: Erro de Treino = 0.2997, Erro de Teste = nan\n",
      "Época 700: Erro de Treino = 0.2976, Erro de Teste = nan\n",
      "Época 800: Erro de Treino = 0.2958, Erro de Teste = nan\n",
      "Época 900: Erro de Treino = 0.2941, Erro de Teste = nan\n",
      "Época 1000: Erro de Treino = 0.2924, Erro de Teste = nan\n",
      "Época 1100: Erro de Treino = 0.2909, Erro de Teste = nan\n",
      "Época 1200: Erro de Treino = 0.2895, Erro de Teste = nan\n",
      "Época 1300: Erro de Treino = 0.2882, Erro de Teste = nan\n",
      "Época 1400: Erro de Treino = 0.2869, Erro de Teste = nan\n",
      "Época 1500: Erro de Treino = 0.2857, Erro de Teste = nan\n",
      "Época 1600: Erro de Treino = 0.2846, Erro de Teste = nan\n",
      "Época 1700: Erro de Treino = 0.2835, Erro de Teste = nan\n",
      "Época 1800: Erro de Treino = 0.2824, Erro de Teste = nan\n",
      "Época 1900: Erro de Treino = 0.2814, Erro de Teste = nan\n"
     ]
    }
   ],
   "execution_count": 4
  },
  {
   "cell_type": "markdown",
   "source": [
    "### Visualização dos Resultados"
   ],
   "metadata": {
    "id": "lYWEPUeZM_LS"
   }
  },
  {
   "cell_type": "code",
   "source": [
    "import matplotlib.pyplot as plt\n",
    "\n",
    "# Plotar erros de treino e teste\n",
    "plt.figure(figsize=(10, 6))\n",
    "plt.plot(erros_treino, label=\"Erro de Treino\")\n",
    "plt.plot(erros_teste, label=\"Erro de Teste\")\n",
    "plt.xlabel(\"Épocas\")\n",
    "plt.ylabel(\"Erro Quadrático Médio\")\n",
    "plt.title(\"Erro durante o Treinamento\")\n",
    "plt.legend()\n",
    "plt.show()"
   ],
   "metadata": {
    "id": "CfoA4Ae4Kw2n",
    "ExecuteTime": {
     "end_time": "2024-12-02T03:05:47.632776Z",
     "start_time": "2024-12-02T03:05:46.230122Z"
    }
   },
   "outputs": [
    {
     "data": {
      "text/plain": [
       "<Figure size 1000x600 with 1 Axes>"
      ],
      "image/png": "[encoded data removed]"
     },
     "metadata": {},
     "output_type": "display_data"
    }
   ],
   "execution_count": 5
  },
  {
   "cell_type": "markdown",
   "source": [
    "---\n",
    "# **Classificação Binária**\n",
    "---"
   ],
   "metadata": {
    "id": "KiI7aZ2SNfPC"
   }
  },
  {
   "cell_type": "markdown",
   "source": [
    "### Carregamento do Dataset - PIMA Indians Diabetes Dataset"
   ],
   "metadata": {
    "id": "y_g9wo0WTmhh"
   }
  },
  {
   "cell_type": "code",
   "source": [
    "import pandas as pd\n",
    "from sklearn.model_selection import train_test_split\n",
    "from sklearn.preprocessing import StandardScaler\n",
    "from sklearn.metrics import accuracy_score\n",
    "\n",
    "df = pd.read_csv('diabetes.csv')\n",
    "\n",
    "X = df.drop('Outcome', axis=1)\n",
    "y = df['Outcome']\n",
    "\n",
    "X_train, X_test, y_train, y_test = train_test_split(X, y, test_size=0.2, random_state=42)\n",
    "\n",
    "scaler = StandardScaler()\n",
    "X_train = scaler.fit_transform(X_train)\n",
    "X_test = scaler.transform(X_test)"
   ],
   "metadata": {
    "id": "Foo7FxNwT52n",
    "ExecuteTime": {
     "end_time": "2024-12-02T21:28:51.018851Z",
     "start_time": "2024-12-02T21:28:50.259337Z"
    }
   },
   "outputs": [],
   "execution_count": 1
  },
  {
   "cell_type": "markdown",
   "source": [
    "### Treinamento"
   ],
   "metadata": {
    "id": "JkuepKT1Vb-V"
   }
  },
  {
   "cell_type": "code",
   "source": [
    "class RedeNeuralClassificacao(RedeNeural):\n",
    "    def __init__(self, estrutura):\n",
    "        super().__init__(estrutura)\n",
    "\n",
    "    def sigmoid(self, z):\n",
    "        return 1 / (1 + np.exp(-z))\n",
    "\n",
    "    def derivada_sigmoid(self, z):\n",
    "        return self.sigmoid(z) * (1 - self.sigmoid(z))\n",
    "\n",
    "    def feedforward(self, entrada):\n",
    "        ativacoes = [entrada]\n",
    "        z_camadas = []\n",
    "\n",
    "        for peso, vies in zip(self.pesos, self.vies):\n",
    "            z = np.dot(ativacoes[-1], peso) + vies\n",
    "            z_camadas.append(z)\n",
    "            ativacao = self.sigmoid(z)\n",
    "            ativacoes.append(ativacao)\n",
    "\n",
    "        return ativacoes, z_camadas\n",
    "\n",
    "    def backpropagation(self, entrada, saida_real, taxa_aprendizado):\n",
    "        ativacoes, z_camadas = self.feedforward(entrada)\n",
    "        erro_saida = (ativacoes[-1] - saida_real) * self.derivada_sigmoid(z_camadas[-1])\n",
    "\n",
    "        deltas = [erro_saida]\n",
    "\n",
    "        for i in range(len(self.estrutura) - 2, 0, -1):\n",
    "            erro = np.dot(deltas[0], self.pesos[i].T) * self.derivada_sigmoid(z_camadas[i-1])\n",
    "            deltas.insert(0, erro)\n",
    "\n",
    "        for i in range(len(self.pesos)):\n",
    "            self.pesos[i] -= taxa_aprendizado * np.dot(ativacoes[i].T, deltas[i])\n",
    "            self.vies[i] -= taxa_aprendizado * np.sum(deltas[i], axis=0, keepdims=True)\n",
    "            \n",
    "\n",
    "# configura\n",
    "estrutura_camadas = [X_train.shape[1], 64, 1]  # camada oculta - 64 neurônios\n",
    "rede_classificacao = RedeNeuralClassificacao(estrutura_camadas)\n",
    "\n",
    "\n",
    "# treina\n",
    "def treinar_rede_classificacao(rede, X_train, y_train, X_test, y_test, epochs=1000, taxa_aprendizado=0.01):\n",
    "    for epoch in range(epochs):\n",
    "        rede.backpropagation(X_train, y_train.values.reshape(-1,1), taxa_aprendizado)\n",
    "        if epoch % 100 == 0:\n",
    "            # calcula as previsões para treino e teste\n",
    "            y_pred_train = rede.feedforward(X_train)[0][-1]\n",
    "            y_pred_test = rede.feedforward(X_test)[0][-1]\n",
    "\n",
    "            # calcula o erro\n",
    "            erro_treino = rede.erro_quadratico_medio(y_pred_train, y_train.values.reshape(-1,1))\n",
    "            erro_teste = rede.erro_quadratico_medio(y_pred_test, y_test.values.reshape(-1,1))\n",
    "\n",
    "            print(f\"Época {epoch}: Erro de treino = {erro_treino:.4f} - Erro de teste = {erro_teste:.4f}\")\n",
    "\n",
    "# Executa\n",
    "treinar_rede_classificacao(rede_classificacao, X_train, y_train, X_test, y_test)"
   ],
   "metadata": {
    "id": "Foo7FxNwT52n",
    "ExecuteTime": {
     "end_time": "2024-12-02T21:39:03.011832Z",
     "start_time": "2024-12-02T21:39:02.134210Z"
    }
   },
   "outputs": [
    {
     "name": "stdout",
     "output_type": "stream",
     "text": [
      "Época 0: Erro de treino = 0.2629 - Erro de teste = 0.2701\n",
      "Época 100: Erro de treino = 0.1600 - Erro de teste = 0.1866\n",
      "Época 200: Erro de treino = 0.1565 - Erro de teste = 0.1840\n",
      "Época 300: Erro de treino = 0.1528 - Erro de teste = 0.1833\n",
      "Época 400: Erro de treino = 0.1482 - Erro de teste = 0.1827\n",
      "Época 500: Erro de treino = 0.1445 - Erro de teste = 0.1816\n",
      "Época 600: Erro de treino = 0.1419 - Erro de teste = 0.1804\n",
      "Época 700: Erro de treino = 0.1398 - Erro de teste = 0.1799\n",
      "Época 800: Erro de treino = 0.1378 - Erro de teste = 0.1804\n",
      "Época 900: Erro de treino = 0.1354 - Erro de teste = 0.1818\n"
     ]
    }
   ],
   "execution_count": 8
  },
  {
   "cell_type": "markdown",
   "source": "### Visualização dos Resultados",
   "metadata": {
    "id": "Foo7FxNwT52n"
   }
  },
  {
   "cell_type": "code",
   "source": "",
   "metadata": {
    "id": "Foo7FxNwT52n"
   },
   "outputs": [],
   "execution_count": null
  },
  {
   "cell_type": "markdown",
   "source": [
    "---\n",
    "# **Classificação Multiclasse**\n",
    "---"
   ],
   "metadata": {
    "id": "EmuvL1j9cDAT"
   }
  },
  {
   "cell_type": "markdown",
   "source": [
    "### Carregamento do Dataset - Iris"
   ],
   "metadata": {
    "id": "GfugpXvpJcFD"
   }
  },
  {
   "cell_type": "code",
   "source": [
    "import pandas as pd\n",
    "from sklearn.model_selection import train_test_split\n",
    "from sklearn.preprocessing import StandardScaler, OneHotEncoder\n",
    "import numpy as np\n",
    "\n",
    "df = pd.read_csv('iris.csv')\n",
    "\n",
    "X = df.drop(columns=[\"Id\", \"Species\"])\n",
    "y = df[\"Species\"]\n",
    "\n",
    "encoder = OneHotEncoder()\n",
    "y = encoder.fit_transform(y.values.reshape(-1, 1))\n",
    "\n",
    "X_train, X_test, y_train, y_test = train_test_split(X, y, test_size=0.2, random_state=42)\n",
    "\n",
    "scaler = StandardScaler()\n",
    "X_train = scaler.fit_transform(X_train)\n",
    "X_test = scaler.transform(X_test)"
   ],
   "metadata": {
    "id": "BUxo1DeyJN0J",
    "ExecuteTime": {
     "end_time": "2024-12-03T16:45:42.489834Z",
     "start_time": "2024-12-03T16:45:41.769397Z"
    }
   },
   "outputs": [],
   "execution_count": 1
  },
  {
   "cell_type": "markdown",
   "source": [
    "### Treinamento"
   ],
   "metadata": {
    "id": "6MZVDYY6cbxK"
   }
  },
  {
   "cell_type": "code",
   "source": [
    "class RedeNeuralMulticlasse:\n",
    "    def __init__(self, estrutura):\n",
    "        self.estrutura = estrutura\n",
    "        self.pesos = []\n",
    "        self.vies = []\n",
    "        for i in range(len(estrutura) - 1):\n",
    "            limite = np.sqrt(6 / (estrutura[i] + estrutura[i + 1]))\n",
    "            self.pesos.append(np.random.uniform(-limite, limite, (estrutura[i], estrutura[i + 1])))\n",
    "            self.vies.append(np.zeros((1, estrutura[i + 1])))\n",
    "\n",
    "    def relu(self, z):\n",
    "        return np.maximum(0, z)\n",
    "\n",
    "    def derivada_relu(self, z):\n",
    "        return (z > 0).astype(float)\n",
    "\n",
    "    def softmax(self, z):\n",
    "        exp_z = np.exp(z - np.max(z, axis=1, keepdims=True))\n",
    "        return exp_z / np.sum(exp_z, axis=1, keepdims=True)\n",
    "\n",
    "    def cross_entropy_loss(self, y_pred, y_true):\n",
    "        return -np.mean(np.sum(y_true * np.log(y_pred + 1e-9), axis=1))\n",
    "\n",
    "    def feedforward(self, entrada):\n",
    "        ativacoes = [entrada]\n",
    "        z_camadas = []\n",
    "\n",
    "        for peso, vies in zip(self.pesos, self.vies):\n",
    "            z = np.dot(ativacoes[-1], peso) + vies\n",
    "            z_camadas.append(z)\n",
    "            if len(z_camadas) == len(self.pesos):\n",
    "                ativacao = self.softmax(z)\n",
    "            else:\n",
    "                ativacao = self.relu(z)\n",
    "            ativacoes.append(ativacao)\n",
    "\n",
    "        return ativacoes, z_camadas\n",
    "\n",
    "    def backpropagation(self, entrada, saida_real, taxa_aprendizado):\n",
    "        ativacoes, z_camadas = self.feedforward(entrada)\n",
    "\n",
    "        erro_saida = ativacoes[-1] - saida_real\n",
    "        deltas = [erro_saida]\n",
    "\n",
    "        for i in range(len(self.estrutura) - 2, 0, -1):\n",
    "            erro = np.dot(deltas[0], self.pesos[i].T) * self.derivada_relu(z_camadas[i - 1])\n",
    "            deltas.insert(0, erro)\n",
    "\n",
    "        for i in range(len(self.pesos)):\n",
    "            gradiente_peso = np.dot(ativacoes[i].T, deltas[i])\n",
    "            gradiente_vies = np.sum(deltas[i], axis=0, keepdims=True)\n",
    "\n",
    "            self.pesos[i] -= taxa_aprendizado * gradiente_peso\n",
    "            self.vies[i] -= taxa_aprendizado * gradiente_vies"
   ],
   "metadata": {
    "id": "CdpvM4cCJ4Eo",
    "ExecuteTime": {
     "end_time": "2024-12-03T16:45:45.661821Z",
     "start_time": "2024-12-03T16:45:45.656083Z"
    }
   },
   "outputs": [],
   "execution_count": 2
  },
  {
   "metadata": {
    "ExecuteTime": {
     "end_time": "2024-12-03T16:45:50.461228Z",
     "start_time": "2024-12-03T16:45:50.187425Z"
    }
   },
   "cell_type": "code",
   "source": [
    "# configura a rede\n",
    "estrutura_camadas = [X_train.shape[1], 120, y_train.shape[1]]\n",
    "rede_multiclasse = RedeNeuralMulticlasse(estrutura_camadas)\n",
    "\n",
    "def treinar_rede_multiclasse(rede, X_train, y_train, X_test, y_test, epochs=2000, taxa_aprendizado=0.01):\n",
    "    erros_treino = []\n",
    "    erros_teste = []\n",
    "\n",
    "\n",
    "    X_train = np.asarray(X_train)\n",
    "    y_train = y_train.toarray() if hasattr(y_train, \"toarray\") else np.asarray(y_train)\n",
    "    X_test = np.asarray(X_test)\n",
    "    y_test = y_test.toarray() if hasattr(y_test, \"toarray\") else np.asarray(y_test)\n",
    "\n",
    "    for epoch in range(epochs):\n",
    "        rede.backpropagation(X_train, y_train, taxa_aprendizado)\n",
    "\n",
    "        y_pred_train = rede.feedforward(X_train)[0][-1]\n",
    "        y_pred_test = rede.feedforward(X_test)[0][-1]\n",
    "\n",
    "        erro_treino = rede.cross_entropy_loss(y_pred_train, y_train)\n",
    "        erro_teste = rede.cross_entropy_loss(y_pred_test, y_test)\n",
    "\n",
    "        erros_treino.append(erro_treino)\n",
    "        erros_teste.append(erro_teste)\n",
    "\n",
    "        if epoch % 100 == 0:\n",
    "            print(f\"Época {epoch}: Erro de treino = {erro_treino:.4f}, Erro de teste = {erro_teste:.4f}\")\n",
    "\n",
    "    return erros_treino, erros_teste\n",
    "\n",
    "\n",
    "# treinamento da rede\n",
    "erros_treino, erros_teste = treinar_rede_multiclasse(rede_multiclasse, X_train, y_train, X_test, y_test)\n",
    "\n"
   ],
   "outputs": [
    {
     "name": "stdout",
     "output_type": "stream",
     "text": [
      "Época 0: Erro de treino = 0.4999, Erro de teste = 0.4309\n",
      "Época 100: Erro de treino = 0.0504, Erro de teste = 0.0286\n",
      "Época 200: Erro de treino = 0.0444, Erro de teste = 0.0181\n",
      "Época 300: Erro de treino = 0.0419, Erro de teste = 0.0148\n",
      "Época 400: Erro de treino = 0.0397, Erro de teste = 0.0132\n",
      "Época 500: Erro de treino = 0.0370, Erro de teste = 0.0127\n",
      "Época 600: Erro de treino = 0.0344, Erro de teste = 0.0142\n",
      "Época 700: Erro de treino = 0.0308, Erro de teste = 0.0156\n",
      "Época 800: Erro de treino = 0.0274, Erro de teste = 0.0195\n",
      "Época 900: Erro de treino = 0.0225, Erro de teste = 0.0241\n",
      "Época 1000: Erro de treino = 0.0174, Erro de teste = 0.0281\n",
      "Época 1100: Erro de treino = 0.0135, Erro de teste = 0.0328\n",
      "Época 1200: Erro de treino = 0.0107, Erro de teste = 0.0426\n",
      "Época 1300: Erro de treino = 0.0087, Erro de teste = 0.0491\n",
      "Época 1400: Erro de treino = 0.0072, Erro de teste = 0.0601\n",
      "Época 1500: Erro de treino = 0.0060, Erro de teste = 0.0694\n",
      "Época 1600: Erro de treino = 0.0051, Erro de teste = 0.0762\n",
      "Época 1700: Erro de treino = 0.0044, Erro de teste = 0.0822\n",
      "Época 1800: Erro de treino = 0.0038, Erro de teste = 0.0872\n",
      "Época 1900: Erro de treino = 0.0034, Erro de teste = 0.0918\n"
     ]
    }
   ],
   "execution_count": 3
  },
  {
   "cell_type": "markdown",
   "source": "### Visualização dos Resultados",
   "metadata": {
    "id": "3qXsS56GX_MH"
   }
  },
  {
   "metadata": {},
   "cell_type": "markdown",
   "source": ""
  },
  {
   "metadata": {
    "ExecuteTime": {
     "end_time": "2024-12-03T16:46:28.437909Z",
     "start_time": "2024-12-03T16:46:28.354977Z"
    }
   },
   "cell_type": "code",
   "source": [
    "import matplotlib.pyplot as plt\n",
    "\n",
    "plt.figure(figsize=(10, 6))\n",
    "plt.plot(erros_treino, label=\"Erro de Treino\")\n",
    "plt.plot(erros_teste, label=\"Erro de Teste\")\n",
    "plt.xlabel(\"Épocas\")\n",
    "plt.ylabel(\"Erro Quadrático Médio\")\n",
    "plt.title(\"Erro durante o Treinamento\")\n",
    "plt.legend()\n",
    "plt.show()"
   ],
   "outputs": [
    {
     "data": {
      "text/plain": [
       "<Figure size 1000x600 with 1 Axes>"
      ],
      "image/png": "[encoded data removed]"
     },
     "metadata": {},
     "output_type": "display_data"
    }
   ],
   "execution_count": 6
  }
 ]
}

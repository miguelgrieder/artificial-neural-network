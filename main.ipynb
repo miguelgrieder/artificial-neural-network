{
 "cells": [
  {
   "cell_type": "markdown",
   "metadata": {},
   "source": [
    "# **Rede Neural**"
   ]
  },
  {
   "cell_type": "code",
   "execution_count": null,
   "metadata": {
    "ExecuteTime": {
     "end_time": "2024-12-04T02:10:50.985076Z",
     "start_time": "2024-12-04T02:10:50.980130Z"
    },
    "id": "jETQgjuhvueg"
   },
   "outputs": [
    {
     "ename": "",
     "evalue": "",
     "output_type": "error",
     "traceback": [
      "\u001b[1;31mRunning cells with 'Python 3.12.3' requires the ipykernel package.\n",
      "\u001b[1;31mRun the following command to install 'ipykernel' into the Python environment. \n",
      "\u001b[1;31mCommand: '/bin/python3 -m pip install ipykernel -U --user --force-reinstall'"
     ]
    }
   ],
   "source": [
    "import numpy as np\n",
    "\n",
    "class RedeNeural:\n",
    "    def __init__(self, estrutura):\n",
    "        self.estrutura = estrutura\n",
    "        self.pesos = []\n",
    "        self.vies = []\n",
    "        for i in range(len(estrutura) - 1):\n",
    "            # Inicialização Xavier\n",
    "            limite = np.sqrt(6 / (estrutura[i] + estrutura[i + 1]))\n",
    "            self.pesos.append(np.random.uniform(-limite, limite, (estrutura[i], estrutura[i + 1])))\n",
    "            self.vies.append(np.zeros((1, estrutura[i + 1])))\n",
    "\n",
    "\n",
    "\n",
    "    def relu(self, z):\n",
    "\n",
    "        return np.maximum(0, z)\n",
    "\n",
    "    def derivada_relu(self, z):\n",
    "\n",
    "        return (z > 0).astype(float)\n",
    "\n",
    "    def erro_quadratico_medio(self, y_pred, y_true):\n",
    "\n",
    "        return np.mean((y_pred - y_true) ** 2)\n",
    "\n",
    "    def derivada_eqm(self, y_pred, y_true):\n",
    "        return 2 * (y_pred - y_true) / y_true.size\n",
    "\n",
    "    def feedforward(self, entrada):\n",
    "        ativacoes = [entrada]\n",
    "        z_camadas = []\n",
    "    \n",
    "        for i in range(len(self.pesos)):\n",
    "            z = np.dot(ativacoes[-1], self.pesos[i]) + self.vies[i]\n",
    "            z_camadas.append(z)\n",
    "            if i == len(self.pesos) - 1:\n",
    "                ativacao = z\n",
    "            else:\n",
    "                ativacao = self.relu(z)\n",
    "            ativacoes.append(ativacao)\n",
    "    \n",
    "        return ativacoes, z_camadas\n",
    "\n",
    "\n",
    "    def backpropagation(self, entrada, saida_real, taxa_aprendizado):\n",
    "    \n",
    "        # Passo 1: Feedforward\n",
    "        ativacoes, z_camadas = self.feedforward(entrada)\n",
    "    \n",
    "        # Passo 2: Calcula erro da saída\n",
    "        erro_saida = self.derivada_eqm(ativacoes[-1], saida_real)\n",
    "    \n",
    "        deltas = [erro_saida]\n",
    "    \n",
    "        # Passo 3: Retropropagação do erro\n",
    "        for i in range(len(self.estrutura) - 2, 0, -1):\n",
    "            erro = np.dot(deltas[0], self.pesos[i].T) * self.derivada_relu(z_camadas[i - 1])\n",
    "            deltas.insert(0, erro)\n",
    "    \n",
    "        # Passo 4: Atualização de pesos e vieses\n",
    "        for i in range(len(self.pesos)):\n",
    "            self.pesos[i] -= taxa_aprendizado * np.dot(ativacoes[i].T, deltas[i])\n",
    "            self.vies[i] -= taxa_aprendizado * np.sum(deltas[i], axis=0, keepdims=True)\n"
   ]
  },
  {
   "cell_type": "markdown",
   "metadata": {
    "id": "T2HXQpA0Mlnb"
   },
   "source": [
    "---\n",
    "# **Regressão**\n",
    "---"
   ]
  },
  {
   "cell_type": "markdown",
   "metadata": {
    "id": "JvMegSXDLcSe"
   },
   "source": [
    "### Carregamento do Dataset - California Housing Prices"
   ]
  },
  {
   "cell_type": "code",
   "execution_count": null,
   "metadata": {
    "ExecuteTime": {
     "end_time": "2024-12-04T02:11:00.090976Z",
     "start_time": "2024-12-04T02:11:00.054878Z"
    },
    "id": "CfoA4Ae4Kw2n"
   },
   "outputs": [],
   "source": [
    "import pandas as pd\n",
    "from sklearn.model_selection import train_test_split\n",
    "from sklearn.preprocessing import RobustScaler\n",
    "import numpy as np\n",
    "\n",
    "def carregar_dados_regressao():\n",
    "    df = pd.read_csv('housing.csv')\n",
    "    \n",
    "    # TODO arrumar depois - ignorando ocean_proximity\n",
    "    df = df.drop(columns=['ocean_proximity'])\n",
    "    \n",
    "    df = df.fillna(df.mean())\n",
    "    \n",
    "    X = df.drop(columns=['median_house_value']).values\n",
    "    y = df['median_house_value'].values.reshape(-1, 1)\n",
    "    \n",
    "\n",
    "    # normaliza os dados\n",
    "    scaler_X = RobustScaler()\n",
    "    scaler_y = RobustScaler()\n",
    "    X = scaler_X.fit_transform(X)\n",
    "    y = scaler_y.fit_transform(y)\n",
    "\n",
    "    X_treino, X_teste, y_treino, y_teste = train_test_split(\n",
    "        X, y, test_size=0.2, random_state=42)\n",
    "\n",
    "    return X_treino, X_teste, y_treino, y_teste, scaler_y\n",
    "\n",
    "# configura os dados\n",
    "X_treino, X_teste, y_treino, y_teste, scaler_y = carregar_dados_regressao()\n"
   ]
  },
  {
   "cell_type": "markdown",
   "metadata": {
    "id": "lYWEPUeZM_LS"
   },
   "source": [
    "### Treinamento"
   ]
  },
  {
   "cell_type": "code",
   "execution_count": null,
   "metadata": {
    "ExecuteTime": {
     "end_time": "2024-12-04T02:11:33.775342Z",
     "start_time": "2024-12-04T02:11:06.183705Z"
    },
    "id": "CfoA4Ae4Kw2n"
   },
   "outputs": [],
   "source": [
    "estrutura_camadas = [X_treino.shape[1], 50, 1]  # Camada oculta com 50 neurônios\n",
    "rede = RedeNeural(estrutura_camadas)\n",
    "\n",
    "# Treinamento a rede\n",
    "def treinar_rede_regressao_ajustada(rede, X_treino, y_treino, X_teste, y_teste, epochs=2000, taxa_aprendizado=0.005):\n",
    "    erros_treino = []\n",
    "    erros_teste = []\n",
    "\n",
    "    for epoca in range(epochs):\n",
    "        # Treinar com o conjunto de treino\n",
    "        rede.backpropagation(X_treino, y_treino, taxa_aprendizado)\n",
    "\n",
    "        # Calcular erro no treino e no teste\n",
    "        ativacoes_treino, _ = rede.feedforward(X_treino)\n",
    "        erro_treino = rede.erro_quadratico_medio(ativacoes_treino[-1], y_treino)\n",
    "        erros_treino.append(erro_treino)\n",
    "\n",
    "        ativacoes_teste, _ = rede.feedforward(X_teste)\n",
    "        erro_teste = rede.erro_quadratico_medio(ativacoes_teste[-1], y_teste)\n",
    "        erros_teste.append(erro_teste)\n",
    "\n",
    "        # Exibir progresso a cada 100 épocas\n",
    "        if epoca % 100 == 0:\n",
    "            print(f\"Época {epoca}: Erro de Treino = {erro_treino:.4f}, Erro de Teste = {erro_teste:.4f}\")\n",
    "\n",
    "    return erros_treino, erros_teste\n",
    "\n",
    "\n",
    "# Executar o treinamento\n",
    "erros_treino, erros_teste = treinar_rede_regressao_ajustada(rede, X_treino, y_treino, X_teste, y_teste)\n"
   ]
  },
  {
   "cell_type": "markdown",
   "metadata": {
    "id": "lYWEPUeZM_LS"
   },
   "source": [
    "### Visualização dos Resultados"
   ]
  },
  {
   "cell_type": "code",
   "execution_count": null,
   "metadata": {
    "ExecuteTime": {
     "end_time": "2024-12-04T02:11:40.256004Z",
     "start_time": "2024-12-04T02:11:40.179648Z"
    },
    "id": "CfoA4Ae4Kw2n"
   },
   "outputs": [],
   "source": [
    "import matplotlib.pyplot as plt\n",
    "\n",
    "# Plotar erros de treino e teste\n",
    "plt.figure(figsize=(10, 6))\n",
    "plt.plot(erros_treino, label=\"Erro de Treino\")\n",
    "plt.plot(erros_teste, label=\"Erro de Teste\")\n",
    "plt.xlabel(\"Épocas\")\n",
    "plt.ylabel(\"Erro Quadrático Médio\")\n",
    "plt.title(\"Erro durante o Treinamento\")\n",
    "plt.legend()\n",
    "plt.show()"
   ]
  },
  {
   "cell_type": "markdown",
   "metadata": {
    "id": "KiI7aZ2SNfPC"
   },
   "source": [
    "---\n",
    "# **Classificação Binária**\n",
    "---"
   ]
  },
  {
   "cell_type": "markdown",
   "metadata": {
    "id": "y_g9wo0WTmhh"
   },
   "source": [
    "### Carregamento do Dataset - PIMA Indians Diabetes Dataset"
   ]
  },
  {
   "cell_type": "code",
   "execution_count": null,
   "metadata": {
    "ExecuteTime": {
     "end_time": "2024-12-04T02:15:02.629537Z",
     "start_time": "2024-12-04T02:15:02.608505Z"
    },
    "id": "Foo7FxNwT52n"
   },
   "outputs": [],
   "source": [
    "import pandas as pd\n",
    "from sklearn.model_selection import train_test_split\n",
    "from sklearn.preprocessing import StandardScaler\n",
    "from sklearn.metrics import accuracy_score\n",
    "\n",
    "df = pd.read_csv('diabetes.csv')\n",
    "\n",
    "X = df.drop('Outcome', axis=1)\n",
    "y = df['Outcome']\n",
    "\n",
    "X_train, X_test, y_train, y_test = train_test_split(X, y, test_size=0.2, random_state=42)\n",
    "\n",
    "scaler = StandardScaler()\n",
    "X_train = scaler.fit_transform(X_train)\n",
    "X_test = scaler.transform(X_test)"
   ]
  },
  {
   "cell_type": "markdown",
   "metadata": {
    "id": "JkuepKT1Vb-V"
   },
   "source": [
    "### Treinamento"
   ]
  },
  {
   "cell_type": "code",
   "execution_count": null,
   "metadata": {
    "ExecuteTime": {
     "end_time": "2024-12-04T02:01:17.496654Z",
     "start_time": "2024-12-04T02:01:17.214847Z"
    },
    "id": "Foo7FxNwT52n"
   },
   "outputs": [],
   "source": [
    "class RedeNeuralClassificacao(RedeNeural):\n",
    "    def __init__(self, estrutura):\n",
    "        super().__init__(estrutura)\n",
    "\n",
    "    def sigmoid(self, z):\n",
    "        return 1 / (1 + np.exp(-z))\n",
    "\n",
    "    def derivada_sigmoid(self, z):\n",
    "        return self.sigmoid(z) * (1 - self.sigmoid(z))\n",
    "\n",
    "    def feedforward(self, entrada):\n",
    "        ativacoes = [entrada]\n",
    "        z_camadas = []\n",
    "\n",
    "        for peso, vies in zip(self.pesos, self.vies):\n",
    "            z = np.dot(ativacoes[-1], peso) + vies\n",
    "            z_camadas.append(z)\n",
    "            ativacao = self.sigmoid(z)\n",
    "            ativacoes.append(ativacao)\n",
    "\n",
    "        return ativacoes, z_camadas\n",
    "\n",
    "    def backpropagation(self, entrada, saida_real, taxa_aprendizado):\n",
    "        ativacoes, z_camadas = self.feedforward(entrada)\n",
    "        erro_saida = (ativacoes[-1] - saida_real) * self.derivada_sigmoid(z_camadas[-1])\n",
    "\n",
    "        deltas = [erro_saida]\n",
    "\n",
    "        for i in range(len(self.estrutura) - 2, 0, -1):\n",
    "            erro = np.dot(deltas[0], self.pesos[i].T) * self.derivada_sigmoid(z_camadas[i-1])\n",
    "            deltas.insert(0, erro)\n",
    "\n",
    "        for i in range(len(self.pesos)):\n",
    "            self.pesos[i] -= taxa_aprendizado * np.dot(ativacoes[i].T, deltas[i])\n",
    "            self.vies[i] -= taxa_aprendizado * np.sum(deltas[i], axis=0, keepdims=True)\n",
    "            \n",
    "\n",
    "# configura\n",
    "estrutura_camadas = [X_train.shape[1], 64, 1]  # camada oculta - 64 neurônios\n",
    "rede_classificacao = RedeNeuralClassificacao(estrutura_camadas)\n",
    "\n",
    "\n",
    "# treina\n",
    "def treinar_rede_classificacao(rede, X_train, y_train, X_test, y_test, epochs=1000, taxa_aprendizado=0.01):\n",
    "    for epoch in range(epochs):\n",
    "        rede.backpropagation(X_train, y_train.values.reshape(-1,1), taxa_aprendizado)\n",
    "        if epoch % 100 == 0:\n",
    "            # calcula as previsões para treino e teste\n",
    "            y_pred_train = rede.feedforward(X_train)[0][-1]\n",
    "            y_pred_test = rede.feedforward(X_test)[0][-1]\n",
    "\n",
    "            # calcula o erro\n",
    "            erro_treino = rede.erro_quadratico_medio(y_pred_train, y_train.values.reshape(-1,1))\n",
    "            erro_teste = rede.erro_quadratico_medio(y_pred_test, y_test.values.reshape(-1,1))\n",
    "\n",
    "            print(f\"Época {epoch}: Erro de treino = {erro_treino:.4f} - Erro de teste = {erro_teste:.4f}\")\n",
    "\n",
    "# Executa\n",
    "treinar_rede_classificacao(rede_classificacao, X_train, y_train, X_test, y_test)"
   ]
  },
  {
   "cell_type": "markdown",
   "metadata": {
    "id": "Foo7FxNwT52n"
   },
   "source": [
    "### Visualização dos Resultados"
   ]
  },
  {
   "cell_type": "code",
   "execution_count": null,
   "metadata": {
    "ExecuteTime": {
     "end_time": "2024-12-04T02:01:21.738307Z",
     "start_time": "2024-12-04T02:01:21.674159Z"
    },
    "id": "Foo7FxNwT52n"
   },
   "outputs": [],
   "source": [
    "# Plotar erros de treino e teste\n",
    "plt.figure(figsize=(10, 6))\n",
    "plt.plot(erros_treino, label=\"Erro de Treino\")\n",
    "plt.plot(erros_teste, label=\"Erro de Teste\")\n",
    "plt.xlabel(\"Épocas\")\n",
    "plt.ylabel(\"Erro Quadrático Médio\")\n",
    "plt.title(\"Erro durante o Treinamento\")\n",
    "plt.legend()\n",
    "plt.show()"
   ]
  },
  {
   "cell_type": "markdown",
   "metadata": {
    "id": "EmuvL1j9cDAT"
   },
   "source": [
    "---\n",
    "# **Classificação Multiclasse**\n",
    "---"
   ]
  },
  {
   "cell_type": "markdown",
   "metadata": {
    "id": "GfugpXvpJcFD"
   },
   "source": [
    "### Carregamento do Dataset - Iris"
   ]
  },
  {
   "cell_type": "code",
   "execution_count": null,
   "metadata": {
    "ExecuteTime": {
     "end_time": "2024-12-04T02:01:24.622989Z",
     "start_time": "2024-12-04T02:01:24.615913Z"
    },
    "id": "BUxo1DeyJN0J"
   },
   "outputs": [],
   "source": [
    "import pandas as pd\n",
    "from sklearn.model_selection import train_test_split\n",
    "from sklearn.preprocessing import StandardScaler, OneHotEncoder\n",
    "import numpy as np\n",
    "import matplotlib.pyplot as plt\n",
    "\n",
    "df = pd.read_csv('iris.csv')\n",
    "\n",
    "X = df.drop(columns=[\"Id\", \"Species\"])\n",
    "y = df[\"Species\"]\n",
    "\n",
    "encoder = OneHotEncoder()\n",
    "y = encoder.fit_transform(y.values.reshape(-1, 1))\n",
    "\n",
    "X_train, X_test, y_train, y_test = train_test_split(X, y, test_size=0.2, random_state=42)\n",
    "\n",
    "scaler = StandardScaler()\n",
    "X_train = scaler.fit_transform(X_train)\n",
    "X_test = scaler.transform(X_test)"
   ]
  },
  {
   "cell_type": "markdown",
   "metadata": {
    "id": "6MZVDYY6cbxK"
   },
   "source": [
    "### Treinamento"
   ]
  },
  {
   "cell_type": "code",
   "execution_count": null,
   "metadata": {
    "ExecuteTime": {
     "end_time": "2024-12-04T02:01:27.733812Z",
     "start_time": "2024-12-04T02:01:27.728767Z"
    },
    "id": "CdpvM4cCJ4Eo"
   },
   "outputs": [],
   "source": [
    "import numpy as np\n",
    "\n",
    "class RedeNeuralMulticlasse:\n",
    "    def __init__(self, estrutura):\n",
    "        self.estrutura = estrutura\n",
    "        self.pesos = []\n",
    "        self.vies = []\n",
    "        for i in range(len(estrutura) - 1):\n",
    "            limite = np.sqrt(6 / (estrutura[i] + estrutura[i + 1]))\n",
    "            self.pesos.append(np.random.uniform(-limite, limite, (estrutura[i], estrutura[i + 1])))\n",
    "            self.vies.append(np.zeros((1, estrutura[i + 1])))\n",
    "\n",
    "    def relu(self, z):\n",
    "        return np.maximum(0, z)\n",
    "\n",
    "    def derivada_relu(self, z):\n",
    "        return (z > 0).astype(float)\n",
    "\n",
    "    def softmax(self, z):\n",
    "        exp_z = np.exp(z - np.max(z, axis=1, keepdims=True))\n",
    "        return exp_z / np.sum(exp_z, axis=1, keepdims=True)\n",
    "\n",
    "    def cross_entropy_loss(self, y_pred, y_true):\n",
    "        return -np.mean(np.sum(y_true * np.log(y_pred + 1e-15), axis=1))\n",
    "\n",
    "    def feedforward(self, entrada):\n",
    "        ativacoes = [entrada]\n",
    "        z_camadas = []\n",
    "\n",
    "        for i in range(len(self.pesos)):\n",
    "            z = np.dot(ativacoes[-1], self.pesos[i]) + self.vies[i]\n",
    "            z_camadas.append(z)\n",
    "            if i == len(self.pesos) - 1:\n",
    "                ativacao = self.softmax(z)\n",
    "            else:\n",
    "                ativacao = self.relu(z)\n",
    "            ativacoes.append(ativacao)\n",
    "\n",
    "        return ativacoes, z_camadas\n",
    "\n",
    "    def backpropagation(self, entrada, saida_real, taxa_aprendizado):\n",
    "        ativacoes, z_camadas = self.feedforward(entrada)\n",
    "\n",
    "        erro_saida = ativacoes[-1] - saida_real\n",
    "        deltas = [erro_saida]\n",
    "\n",
    "        for i in range(len(self.pesos) - 1, 0, -1):\n",
    "            delta = np.dot(deltas[0], self.pesos[i].T) * self.derivada_relu(z_camadas[i - 1])\n",
    "            deltas.insert(0, delta)\n",
    "\n",
    "        for i in range(len(self.pesos)):\n",
    "            gradiente_peso = np.dot(ativacoes[i].T, deltas[i])\n",
    "            gradiente_vies = np.sum(deltas[i], axis=0, keepdims=True)\n",
    "\n",
    "            self.pesos[i] -= taxa_aprendizado * gradiente_peso\n",
    "            self.vies[i] -= taxa_aprendizado * gradiente_vies"
   ]
  },
  {
   "cell_type": "code",
   "execution_count": null,
   "metadata": {
    "ExecuteTime": {
     "end_time": "2024-12-04T02:01:31.830701Z",
     "start_time": "2024-12-04T02:01:31.722169Z"
    }
   },
   "outputs": [],
   "source": [
    "# configura a rede\n",
    "estrutura_camadas = [X_train.shape[1], 64, y_train.shape[1]]\n",
    "rede_multiclasse = RedeNeuralMulticlasse(estrutura_camadas)\n",
    "\n",
    "def treinar_rede_multiclasse(rede, X_train, y_train, X_test, y_test, epochs=2000, taxa_aprendizado=0.01):\n",
    "    erros_treino = []\n",
    "    erros_teste = []\n",
    "\n",
    "\n",
    "    X_train = np.asarray(X_train)\n",
    "    y_train = y_train.toarray() if hasattr(y_train, \"toarray\") else np.asarray(y_train)\n",
    "    X_test = np.asarray(X_test)\n",
    "    y_test = y_test.toarray() if hasattr(y_test, \"toarray\") else np.asarray(y_test)\n",
    "\n",
    "    for epoch in range(epochs):\n",
    "        rede.backpropagation(X_train, y_train, taxa_aprendizado)\n",
    "\n",
    "        if epoch % 100 == 0 or epoch == epochs - 1:\n",
    "            y_pred_train = rede.feedforward(X_train)[0][-1]\n",
    "            y_pred_test = rede.feedforward(X_test)[0][-1]\n",
    "\n",
    "            erro_treino = rede.cross_entropy_loss(y_pred_train, y_train)\n",
    "            erro_teste = rede.cross_entropy_loss(y_pred_test, y_test)\n",
    "\n",
    "            erros_treino.append(erro_treino)\n",
    "            erros_teste.append(erro_teste)\n",
    "\n",
    "            print(f\"Época {epoch}: Erro de treino = {erro_treino:.4f}, Erro de teste = {erro_teste:.4f}\")\n",
    "\n",
    "    return erros_treino, erros_teste\n",
    "\n",
    "\n",
    "# treinamento da rede\n",
    "erros_treino, erros_teste = treinar_rede_multiclasse(rede_multiclasse, X_train, y_train, X_test, y_test)\n",
    "\n"
   ]
  },
  {
   "cell_type": "markdown",
   "metadata": {
    "id": "3qXsS56GX_MH"
   },
   "source": [
    "### Visualização dos Resultados"
   ]
  },
  {
   "cell_type": "markdown",
   "metadata": {},
   "source": []
  },
  {
   "cell_type": "code",
   "execution_count": null,
   "metadata": {
    "ExecuteTime": {
     "end_time": "2024-12-04T02:01:40.941528Z",
     "start_time": "2024-12-04T02:01:40.874506Z"
    }
   },
   "outputs": [],
   "source": [
    "import matplotlib.pyplot as plt\n",
    "\n",
    "plt.figure(figsize=(10, 6))\n",
    "plt.plot(erros_treino, label=\"Erro de Treino\")\n",
    "plt.plot(erros_teste, label=\"Erro de Teste\")\n",
    "plt.xlabel(\"Épocas\")\n",
    "plt.ylabel(\"Erro Quadrático Médio\")\n",
    "plt.title(\"Erro durante o Treinamento\")\n",
    "plt.legend()\n",
    "plt.show()"
   ]
  }
 ],
 "metadata": {
  "colab": {
   "provenance": []
  },
  "kernelspec": {
   "display_name": "Python 3 (ipykernel)",
   "language": "python",
   "name": "python3"
  },
  "language_info": {
   "name": "python"
  }
 },
 "nbformat": 4,
 "nbformat_minor": 0
}

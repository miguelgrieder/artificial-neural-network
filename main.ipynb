{
 "nbformat": 4,
 "nbformat_minor": 0,
 "metadata": {
  "colab": {
   "provenance": []
  },
  "kernelspec": {
   "name": "python3",
   "display_name": "Python 3 (ipykernel)",
   "language": "python"
  },
  "language_info": {
   "name": "python"
  }
 },
 "cells": [
  {
   "metadata": {},
   "cell_type": "markdown",
   "source": "# **Rede Neural**"
  },
  {
   "cell_type": "code",
   "metadata": {
    "id": "jETQgjuhvueg",
    "ExecuteTime": {
     "end_time": "2024-12-01T22:54:36.886531Z",
     "start_time": "2024-12-01T22:54:36.883933Z"
    }
   },
   "source": [
    "class RedeNeural:\n",
    "    def __init__(self, estrutura):\n",
    "        self.estrutura = estrutura\n",
    "        self.pesos = []\n",
    "        self.vies = []"
   ],
   "outputs": [],
   "execution_count": 3
  },
  {
   "cell_type": "markdown",
   "source": [
    "---\n",
    "# **Regressão**\n",
    "---"
   ],
   "metadata": {
    "id": "T2HXQpA0Mlnb"
   }
  },
  {
   "cell_type": "markdown",
   "source": [
    "### Carregamento do Dataset - California Housing Prices"
   ],
   "metadata": {
    "id": "JvMegSXDLcSe"
   }
  },
  {
   "cell_type": "code",
   "source": [
    "import pandas as pd\n",
    "from sklearn.model_selection import train_test_split\n",
    "from sklearn.preprocessing import RobustScaler\n",
    "\n",
    "def carregar_dados_regressao():\n",
    "    df = pd.read_csv('housing.csv')\n",
    "    \n",
    "    # TODO arrumar depois - ignorando ocean_proximity\n",
    "    df = df.drop(columns=['ocean_proximity'])\n",
    "\n",
    "    # entradas (X) e a saída (y)\n",
    "    X = df.drop(columns=['median_house_value']).values\n",
    "    y = df['median_house_value'].values.reshape(-1, 1)\n",
    "    \n",
    "\n",
    "    # normaliza os dados\n",
    "    scaler_X = RobustScaler()\n",
    "    scaler_y = RobustScaler()\n",
    "    X = scaler_X.fit_transform(X)\n",
    "    y = scaler_y.fit_transform(y)\n",
    "\n",
    "    X_treino, X_teste, y_treino, y_teste = train_test_split(\n",
    "        X, y, test_size=0.2, random_state=42)\n",
    "\n",
    "    return X_treino, X_teste, y_treino, y_teste, scaler_y\n",
    "\n",
    "# configura os dados\n",
    "X_treino, X_teste, y_treino, y_teste, scaler_y = carregar_dados_regressao()\n"
   ],
   "metadata": {
    "id": "CfoA4Ae4Kw2n",
    "ExecuteTime": {
     "end_time": "2024-12-01T22:54:33.883421Z",
     "start_time": "2024-12-01T22:54:33.860040Z"
    }
   },
   "outputs": [],
   "execution_count": 2
  },
  {
   "cell_type": "markdown",
   "source": [
    "### Treinamento"
   ],
   "metadata": {
    "id": "lYWEPUeZM_LS"
   }
  },
  {
   "cell_type": "code",
   "source": [],
   "metadata": {
    "id": "CfoA4Ae4Kw2n"
   },
   "execution_count": null,
   "outputs": []
  },
  {
   "cell_type": "markdown",
   "source": [
    "### Visualização dos Resultados"
   ],
   "metadata": {
    "id": "lYWEPUeZM_LS"
   }
  },
  {
   "cell_type": "code",
   "source": [],
   "metadata": {
    "id": "CfoA4Ae4Kw2n"
   },
   "execution_count": null,
   "outputs": []
  },
  {
   "cell_type": "markdown",
   "source": [
    "---\n",
    "# **Classificação Binária**\n",
    "---"
   ],
   "metadata": {
    "id": "KiI7aZ2SNfPC"
   }
  },
  {
   "cell_type": "markdown",
   "source": [
    "### Carregamento do Dataset - PIMA Indians Diabetes Dataset"
   ],
   "metadata": {
    "id": "y_g9wo0WTmhh"
   }
  },
  {
   "cell_type": "code",
   "source": [],
   "metadata": {
    "id": "Foo7FxNwT52n"
   },
   "execution_count": null,
   "outputs": []
  },
  {
   "cell_type": "markdown",
   "source": [
    "### Treinamento"
   ],
   "metadata": {
    "id": "JkuepKT1Vb-V"
   }
  },
  {
   "cell_type": "code",
   "source": [],
   "metadata": {
    "id": "Foo7FxNwT52n"
   },
   "execution_count": null,
   "outputs": []
  },
  {
   "cell_type": "markdown",
   "source": "### Visualização dos Resultados",
   "metadata": {
    "id": "Foo7FxNwT52n"
   }
  },
  {
   "cell_type": "code",
   "source": [],
   "metadata": {
    "id": "Foo7FxNwT52n"
   },
   "execution_count": null,
   "outputs": []
  },
  {
   "cell_type": "markdown",
   "source": [
    "---\n",
    "# **Classificação Multiclasse**\n",
    "---"
   ],
   "metadata": {
    "id": "EmuvL1j9cDAT"
   }
  },
  {
   "cell_type": "markdown",
   "source": [
    "### Carregamento do Dataset - Iris"
   ],
   "metadata": {
    "id": "GfugpXvpJcFD"
   }
  },
  {
   "cell_type": "code",
   "source": [],
   "metadata": {
    "id": "BUxo1DeyJN0J"
   },
   "execution_count": null,
   "outputs": []
  },
  {
   "cell_type": "markdown",
   "source": [
    "### Treinamento"
   ],
   "metadata": {
    "id": "6MZVDYY6cbxK"
   }
  },
  {
   "cell_type": "code",
   "source": [],
   "metadata": {
    "id": "CdpvM4cCJ4Eo"
   },
   "execution_count": null,
   "outputs": []
  },
  {
   "cell_type": "markdown",
   "source": "### Visualização dos Resultados",
   "metadata": {
    "id": "3qXsS56GX_MH"
   }
  },
  {
   "metadata": {},
   "cell_type": "markdown",
   "source": ""
  },
  {
   "metadata": {},
   "cell_type": "code",
   "outputs": [],
   "execution_count": null,
   "source": ""
  }
 ]
}
